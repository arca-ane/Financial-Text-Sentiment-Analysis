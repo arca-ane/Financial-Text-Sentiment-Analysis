{
 "cells": [
  {
   "cell_type": "code",
   "execution_count": 12,
   "id": "14724db9",
   "metadata": {},
   "outputs": [],
   "source": [
    "import pandas as pd\n",
    "import numpy as np\n",
    "\n",
    "pricevalue=np.random.uniform(low=90,high=100, size=100)\n",
    "df=pd.DataFrame({'Price': pricevalue})"
   ]
  },
  {
   "cell_type": "code",
   "execution_count": 13,
   "id": "4cf50cd0",
   "metadata": {},
   "outputs": [
    {
     "name": "stdout",
     "output_type": "stream",
     "text": [
      "       Price\n",
      "0  95.187191\n",
      "1  97.719681\n",
      "2  91.270572\n",
      "3  98.696424\n",
      "4  99.886483\n",
      "5  99.843869\n",
      "6  97.404237\n",
      "7  91.285058\n",
      "8  93.378011\n",
      "9  95.889426\n"
     ]
    }
   ],
   "source": [
    "print(df.head(10))"
   ]
  },
  {
   "cell_type": "code",
   "execution_count": 16,
   "id": "96479de5",
   "metadata": {},
   "outputs": [],
   "source": [
    "def add_sma(df):\n",
    "    df['SMA_5']=df['Price'].rolling(window=5).mean()\n",
    "    df['SMA_10']=df['Price'].rolling(window=10).mean()\n",
    "\n",
    "    crossover=df[(df['SMA_5'].shift(1)<df['SMA_10'].shift(1)) & (df['SMA_5']>df['SMA_10'])] \n",
    "\n",
    "    return crossover"
   ]
  },
  {
   "cell_type": "code",
   "execution_count": 20,
   "id": "058fff9d",
   "metadata": {},
   "outputs": [],
   "source": [
    "cross=add_sma(df)"
   ]
  },
  {
   "cell_type": "code",
   "execution_count": null,
   "id": "106d5cff",
   "metadata": {},
   "outputs": [],
   "source": [
    "crossover_indices=cross['']"
   ]
  }
 ],
 "metadata": {
  "kernelspec": {
   "display_name": "Python 3 (ipykernel)",
   "language": "python",
   "name": "python3"
  },
  "language_info": {
   "codemirror_mode": {
    "name": "ipython",
    "version": 3
   },
   "file_extension": ".py",
   "mimetype": "text/x-python",
   "name": "python",
   "nbconvert_exporter": "python",
   "pygments_lexer": "ipython3",
   "version": "3.12.0"
  }
 },
 "nbformat": 4,
 "nbformat_minor": 5
}
